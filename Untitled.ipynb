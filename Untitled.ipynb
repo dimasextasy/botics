{
 "cells": [
  {
   "cell_type": "code",
   "execution_count": 1,
   "metadata": {},
   "outputs": [],
   "source": [
    "import pandas as pd\n",
    "from data_work import preprocess_tasks_set\n",
    "from task_extractor import TaskExtractor\n",
    "from open_card import prepare_dataset"
   ]
  },
  {
   "cell_type": "code",
   "execution_count": 2,
   "metadata": {},
   "outputs": [],
   "source": [
    "from open_card import prepare_dataset\n",
    "extractors = {'open_card': TaskExtractor(prepare_dataset())}"
   ]
  },
  {
   "cell_type": "code",
   "execution_count": null,
   "metadata": {},
   "outputs": [],
   "source": [
    "inside_extractor = extractors['open_card']\n",
    "client_id = inside_extractor.extract_symptoms('открой мне карточку сурок')\n",
    "url_base = 'https://dev.greendatasoft.ru/#/card/'\n",
    "full_url = url_base + str(client_id)\n",
    "full_url"
   ]
  }
 ],
 "metadata": {
  "kernelspec": {
   "display_name": "Python 3",
   "language": "python",
   "name": "python3"
  },
  "language_info": {
   "codemirror_mode": {
    "name": "ipython",
    "version": 3
   },
   "file_extension": ".py",
   "mimetype": "text/x-python",
   "name": "python",
   "nbconvert_exporter": "python",
   "pygments_lexer": "ipython3",
   "version": "3.7.3"
  }
 },
 "nbformat": 4,
 "nbformat_minor": 2
}
